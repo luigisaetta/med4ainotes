{
 "cells": [
  {
   "cell_type": "markdown",
   "metadata": {},
   "source": [
    "### Analisi e classificazione BBC news"
   ]
  },
  {
   "cell_type": "code",
   "execution_count": 38,
   "metadata": {},
   "outputs": [],
   "source": [
    "# sezione di inizializazione presa dal github di A. Geron\n",
    "import tensorflow as tf\n",
    "\n",
    "from tensorflow.keras.preprocessing.text import Tokenizer\n",
    "from tensorflow.keras.preprocessing.sequence import pad_sequences\n",
    "\n",
    "# TensorFlow ≥2.0 is required\n",
    "assert tf.__version__ >= \"2.0\"\n",
    "\n",
    "# Common imports\n",
    "import numpy as np\n",
    "import os\n",
    "import pandas as pd\n",
    "import csv\n",
    "\n",
    "# to make this notebook's output stable across runs\n",
    "np.random.seed(42)\n",
    "\n",
    "# To plot pretty figures\n",
    "%matplotlib inline\n",
    "import matplotlib as mpl\n",
    "import matplotlib.pyplot as plt\n",
    "mpl.rc('axes', labelsize=14)\n",
    "mpl.rc('xtick', labelsize=12)\n",
    "mpl.rc('ytick', labelsize=12)\n",
    "\n",
    "import seaborn as sns\n",
    "\n",
    "# Ignore useless warnings (see SciPy issue #5998)\n",
    "import warnings\n",
    "warnings.filterwarnings(action=\"ignore\", message=\"^internal gelsd\")"
   ]
  },
  {
   "cell_type": "code",
   "execution_count": 39,
   "metadata": {},
   "outputs": [],
   "source": [
    "# importa il dataset(CSV) usando Pandas per fare EDA\n",
    "FILE_NAME = \"bbc-text.csv\"\n",
    "df = pd.read_csv(FILE_NAME)"
   ]
  },
  {
   "cell_type": "code",
   "execution_count": 40,
   "metadata": {},
   "outputs": [],
   "source": [
    "# lista di stopwords da eliminare dai testi\n",
    "stopwords = [ \"a\", \"about\", \"above\", \"after\", \"again\", \"against\", \"all\", \"am\", \"an\", \"and\", \n",
    "             \"any\", \"are\", \"as\", \"at\", \"be\", \"because\", \"been\", \"before\", \"being\", \"below\", \n",
    "             \"between\", \"both\", \"but\", \"by\", \"could\", \"did\", \"do\", \"does\", \"doing\", \"down\", \n",
    "             \"during\", \"each\", \"few\", \"for\", \"from\", \"further\", \"had\", \"has\", \"have\", \"having\", \n",
    "             \"he\", \"he'd\", \"he'll\", \"he's\", \"her\", \"here\", \"here's\", \"hers\", \"herself\", \"him\", \n",
    "             \"himself\", \"his\", \"how\", \"how's\", \"i\", \"i'd\", \"i'll\", \"i'm\", \"i've\", \"if\", \"in\", \n",
    "             \"into\", \"is\", \"it\", \"it's\", \"its\", \"itself\", \"let's\", \"me\", \"more\", \"most\", \"my\", \n",
    "             \"myself\", \"nor\", \"of\", \"on\", \"once\", \"only\", \"or\", \"other\", \"ought\", \"our\", \"ours\", \n",
    "             \"ourselves\", \"out\", \"over\", \"own\", \"same\", \"she\", \"she'd\", \"she'll\", \"she's\", \"should\", \n",
    "             \"so\", \"some\", \"such\", \"than\", \"that\", \"that's\", \"the\", \"their\", \"theirs\", \"them\", \"themselves\", \n",
    "             \"then\", \"there\", \"there's\", \"these\", \"they\", \"they'd\", \"they'll\", \"they're\", \"they've\", \"this\", \n",
    "             \"those\", \"through\", \"to\", \"too\", \"under\", \"until\", \"up\", \"very\", \"was\", \"we\", \"we'd\", \"we'll\", \n",
    "             \"we're\", \"we've\", \"were\", \"what\", \"what's\", \"when\", \"when's\", \"where\", \"where's\", \"which\", \"while\", \n",
    "             \"who\", \"who's\", \"whom\", \"why\", \"why's\", \"with\", \"would\", \"you\", \"you'd\", \"you'll\", \"you're\", \"you've\", \n",
    "             \"your\", \"yours\", \"yourself\", \"yourselves\" ]"
   ]
  },
  {
   "cell_type": "code",
   "execution_count": 41,
   "metadata": {},
   "outputs": [],
   "source": [
    "# function per eliminare le stopwords\n",
    "def filter_stop_words(sentences, stop_words):\n",
    "    for i, sentence in enumerate(sentences):\n",
    "        new_sent = [word for word in sentence.split() if word not in stop_words]\n",
    "        sentences[i] = ' '.join(new_sent)\n",
    "    return sentences"
   ]
  },
  {
   "cell_type": "code",
   "execution_count": 42,
   "metadata": {},
   "outputs": [],
   "source": [
    "# test della funzione di eliminazione delle stop words\n",
    "test = [\"I remember that she was not very nice and not beautiful\"]\n",
    "test_filtered = filter_stop_words(test, stopwords)"
   ]
  },
  {
   "cell_type": "code",
   "execution_count": 43,
   "metadata": {},
   "outputs": [
    {
     "data": {
      "text/plain": [
       "['I remember not nice not beautiful']"
      ]
     },
     "execution_count": 43,
     "metadata": {},
     "output_type": "execute_result"
    }
   ],
   "source": [
    "test_filtered"
   ]
  },
  {
   "cell_type": "code",
   "execution_count": 44,
   "metadata": {},
   "outputs": [
    {
     "data": {
      "text/html": [
       "<div>\n",
       "<style scoped>\n",
       "    .dataframe tbody tr th:only-of-type {\n",
       "        vertical-align: middle;\n",
       "    }\n",
       "\n",
       "    .dataframe tbody tr th {\n",
       "        vertical-align: top;\n",
       "    }\n",
       "\n",
       "    .dataframe thead th {\n",
       "        text-align: right;\n",
       "    }\n",
       "</style>\n",
       "<table border=\"1\" class=\"dataframe\">\n",
       "  <thead>\n",
       "    <tr style=\"text-align: right;\">\n",
       "      <th></th>\n",
       "      <th>category</th>\n",
       "      <th>text</th>\n",
       "    </tr>\n",
       "  </thead>\n",
       "  <tbody>\n",
       "    <tr>\n",
       "      <th>0</th>\n",
       "      <td>tech</td>\n",
       "      <td>tv future in the hands of viewers with home th...</td>\n",
       "    </tr>\n",
       "    <tr>\n",
       "      <th>1</th>\n",
       "      <td>business</td>\n",
       "      <td>worldcom boss  left books alone  former worldc...</td>\n",
       "    </tr>\n",
       "    <tr>\n",
       "      <th>2</th>\n",
       "      <td>sport</td>\n",
       "      <td>tigers wary of farrell  gamble  leicester say ...</td>\n",
       "    </tr>\n",
       "    <tr>\n",
       "      <th>3</th>\n",
       "      <td>sport</td>\n",
       "      <td>yeading face newcastle in fa cup premiership s...</td>\n",
       "    </tr>\n",
       "    <tr>\n",
       "      <th>4</th>\n",
       "      <td>entertainment</td>\n",
       "      <td>ocean s twelve raids box office ocean s twelve...</td>\n",
       "    </tr>\n",
       "  </tbody>\n",
       "</table>\n",
       "</div>"
      ],
      "text/plain": [
       "        category                                               text\n",
       "0           tech  tv future in the hands of viewers with home th...\n",
       "1       business  worldcom boss  left books alone  former worldc...\n",
       "2          sport  tigers wary of farrell  gamble  leicester say ...\n",
       "3          sport  yeading face newcastle in fa cup premiership s...\n",
       "4  entertainment  ocean s twelve raids box office ocean s twelve..."
      ]
     },
     "execution_count": 44,
     "metadata": {},
     "output_type": "execute_result"
    }
   ],
   "source": [
    "# esploriamo il dataset\n",
    "df.head()"
   ]
  },
  {
   "cell_type": "code",
   "execution_count": 45,
   "metadata": {},
   "outputs": [
    {
     "data": {
      "image/png": "[encoded data removed]",
      "text/plain": [
       "<Figure size 720x360 with 1 Axes>"
      ]
     },
     "metadata": {
      "needs_background": "light"
     },
     "output_type": "display_data"
    }
   ],
   "source": [
    "# vediamo la distribuzione delle categorie\n",
    "category_counts = df['category'].value_counts()\n",
    "\n",
    "plt.figure(figsize=(10,5))\n",
    "sns.barplot(category_counts.index, category_counts.values, alpha=0.8)\n",
    "plt.show()"
   ]
  },
  {
   "cell_type": "code",
   "execution_count": 46,
   "metadata": {},
   "outputs": [],
   "source": [
    "# ci sono 5 category distinte. I testi possono essere classificati in 5 classi (sport, business, ....)"
   ]
  },
  {
   "cell_type": "code",
   "execution_count": 47,
   "metadata": {},
   "outputs": [],
   "source": [
    "# carico il dataset in sentences e labels\n",
    "sentences = []\n",
    "labels = []\n",
    "\n",
    "with open(\"bbc-text.csv\", 'r') as csvfile:\n",
    "    csv_reader = csv.reader(csvfile, delimiter=',')\n",
    "    line_count = 0\n",
    "    for row in csv_reader:\n",
    "        if line_count == 0:\n",
    "            # header, ignora\n",
    "            line_count += 1\n",
    "        else:\n",
    "            # print(row[0])\n",
    "            sentences.append(row[1])\n",
    "            labels.append(row[0])"
   ]
  },
  {
   "cell_type": "code",
   "execution_count": 48,
   "metadata": {},
   "outputs": [
    {
     "name": "stdout",
     "output_type": "stream",
     "text": [
      "2225\n",
      "business\n",
      "worldcom boss  left books alone  former worldcom boss bernie ebbers  who is accused of overseeing an $11bn (£5.8bn) fraud  never made accounting decisions  a witness has told jurors.  david myers made the comments under questioning by defence lawyers who have been arguing that mr ebbers was not responsible for worldcom s problems. the phone company collapsed in 2002 and prosecutors claim that losses were hidden to protect the firm s shares. mr myers has already pleaded guilty to fraud and is assisting prosecutors.  on monday  defence lawyer reid weingarten tried to distance his client from the allegations. during cross examination  he asked mr myers if he ever knew mr ebbers  make an accounting decision  .  not that i am aware of   mr myers replied.  did you ever know mr ebbers to make an accounting entry into worldcom books   mr weingarten pressed.  no   replied the witness. mr myers has admitted that he ordered false accounting entries at the request of former worldcom chief financial officer scott sullivan. defence lawyers have been trying to paint mr sullivan  who has admitted fraud and will testify later in the trial  as the mastermind behind worldcom s accounting house of cards.  mr ebbers  team  meanwhile  are looking to portray him as an affable boss  who by his own admission is more pe graduate than economist. whatever his abilities  mr ebbers transformed worldcom from a relative unknown into a $160bn telecoms giant and investor darling of the late 1990s. worldcom s problems mounted  however  as competition increased and the telecoms boom petered out. when the firm finally collapsed  shareholders lost about $180bn and 20 000 workers lost their jobs. mr ebbers  trial is expected to last two months and if found guilty the former ceo faces a substantial jail sentence. he has firmly declared his innocence.\n"
     ]
    }
   ],
   "source": [
    "print(len(sentences))\n",
    "\n",
    "# vediamo la seconda riga:\n",
    "print(labels[1])\n",
    "print(sentences[1])"
   ]
  },
  {
   "cell_type": "code",
   "execution_count": 49,
   "metadata": {},
   "outputs": [],
   "source": [
    "# effettuo la rimozione delle stop words\n",
    "sentences = filter_stop_words(sentences, stopwords)"
   ]
  },
  {
   "cell_type": "code",
   "execution_count": 50,
   "metadata": {},
   "outputs": [],
   "source": [
    "NUM_WORDS = 5000\n",
    "tokenizer = Tokenizer(oov_token = \"<oov>\", num_words = NUM_WORDS)\n",
    "tokenizer.fit_on_texts(sentences)"
   ]
  },
  {
   "cell_type": "code",
   "execution_count": 51,
   "metadata": {},
   "outputs": [
    {
     "name": "stdout",
     "output_type": "stream",
     "text": [
      "29714\n"
     ]
    }
   ],
   "source": [
    "word_index = tokenizer.word_index\n",
    "print(len(word_index))"
   ]
  },
  {
   "cell_type": "code",
   "execution_count": 52,
   "metadata": {},
   "outputs": [
    {
     "data": {
      "text/plain": [
       "(2225, 300)"
      ]
     },
     "execution_count": 52,
     "metadata": {},
     "output_type": "execute_result"
    }
   ],
   "source": [
    "# trasformo le frasi in sequence ed effettuo il padding\n",
    "sequences = tokenizer.texts_to_sequences(sentences)\n",
    "\n",
    "# impongo una lunghezza massima alle stringhe\n",
    "max_len = 300\n",
    "padded = pad_sequences(sequences, padding='post', maxlen = max_len)\n",
    "\n",
    "padded.shape"
   ]
  },
  {
   "cell_type": "code",
   "execution_count": 53,
   "metadata": {},
   "outputs": [],
   "source": [
    "# provvediamo a codificare le labels (uso sempre il tokenizer)\n",
    "tokenizer_l = Tokenizer()\n",
    "tokenizer_l.fit_on_texts(labels)"
   ]
  },
  {
   "cell_type": "code",
   "execution_count": 54,
   "metadata": {},
   "outputs": [],
   "source": [
    "label_seq = tokenizer_l.texts_to_sequences(labels)\n",
    "label_word_index = tokenizer_l.word_index"
   ]
  },
  {
   "cell_type": "code",
   "execution_count": 55,
   "metadata": {},
   "outputs": [
    {
     "name": "stdout",
     "output_type": "stream",
     "text": [
      "{'sport': 1, 'business': 2, 'politics': 3, 'tech': 4, 'entertainment': 5}\n"
     ]
    }
   ],
   "source": [
    "# print(label_seq)\n",
    "print(label_word_index)\n",
    "\n",
    "# calcola il numero di classi\n",
    "NUM_CLASSI = max(label_word_index.values())"
   ]
  },
  {
   "cell_type": "code",
   "execution_count": 56,
   "metadata": {},
   "outputs": [],
   "source": [
    "padded_label = pad_sequences(label_seq)\n",
    "# porto le label nell'intervallo [0,4] (NN vogliono label che iniziano da 0) \n",
    "padded_label = padded_label - 1"
   ]
  },
  {
   "cell_type": "code",
   "execution_count": 57,
   "metadata": {},
   "outputs": [
    {
     "name": "stdout",
     "output_type": "stream",
     "text": [
      "(1780, 300)\n",
      "(445, 300)\n"
     ]
    }
   ],
   "source": [
    "# split in train, test\n",
    "NUM_TRAIN = round(padded.shape[0] * 0.8)\n",
    "\n",
    "train_sentences = padded[: NUM_TRAIN, :]\n",
    "train_labels = padded_label[: NUM_TRAIN, :]\n",
    "test_sentences = padded[NUM_TRAIN:, :]\n",
    "test_labels = padded_label[NUM_TRAIN:, :]\n",
    "\n",
    "print(train_sentences.shape)\n",
    "print(test_sentences.shape)"
   ]
  },
  {
   "cell_type": "code",
   "execution_count": 58,
   "metadata": {},
   "outputs": [],
   "source": [
    "np.random.seed(42)\n",
    "tf.random.set_seed(42)"
   ]
  },
  {
   "cell_type": "code",
   "execution_count": 59,
   "metadata": {},
   "outputs": [],
   "source": [
    "from tensorflow.keras.layers import Embedding\n",
    "from tensorflow.keras.layers import Dense\n",
    "from tensorflow.keras.layers import Dropout\n",
    "from tensorflow.keras.layers import Flatten\n",
    "from tensorflow.keras.models import Sequential"
   ]
  },
  {
   "cell_type": "code",
   "execution_count": 60,
   "metadata": {},
   "outputs": [],
   "source": [
    "EMBEDDING_DIM = 12\n",
    "\n",
    "model = Sequential()\n",
    "model.add(Embedding(NUM_WORDS + 1, EMBEDDING_DIM, input_length= max_len))\n",
    "model.add(Flatten())\n",
    "model.add(Dropout(0.5))\n",
    "model.add(Dense(30, activation=\"relu\"))\n",
    "\n",
    "model.add(Dense(NUM_CLASSI, activation=\"softmax\"))"
   ]
  },
  {
   "cell_type": "code",
   "execution_count": 61,
   "metadata": {},
   "outputs": [
    {
     "name": "stdout",
     "output_type": "stream",
     "text": [
      "Model: \"sequential_1\"\n",
      "_________________________________________________________________\n",
      "Layer (type)                 Output Shape              Param #   \n",
      "=================================================================\n",
      "embedding_1 (Embedding)      (None, 300, 12)           60012     \n",
      "_________________________________________________________________\n",
      "flatten_1 (Flatten)          (None, 3600)              0         \n",
      "_________________________________________________________________\n",
      "dropout_1 (Dropout)          (None, 3600)              0         \n",
      "_________________________________________________________________\n",
      "dense_2 (Dense)              (None, 30)                108030    \n",
      "_________________________________________________________________\n",
      "dense_3 (Dense)              (None, 5)                 155       \n",
      "=================================================================\n",
      "Total params: 168,197\n",
      "Trainable params: 168,197\n",
      "Non-trainable params: 0\n",
      "_________________________________________________________________\n"
     ]
    }
   ],
   "source": [
    "model.summary()"
   ]
  },
  {
   "cell_type": "code",
   "execution_count": 62,
   "metadata": {},
   "outputs": [],
   "source": [
    "model.compile(optimizer='adam',\n",
    "              loss='sparse_categorical_crossentropy',\n",
    "              metrics=['accuracy'])"
   ]
  },
  {
   "cell_type": "code",
   "execution_count": 63,
   "metadata": {},
   "outputs": [
    {
     "name": "stdout",
     "output_type": "stream",
     "text": [
      "Train on 1602 samples, validate on 178 samples\n",
      "Epoch 1/100\n",
      "1602/1602 [==============================] - 1s 408us/sample - loss: 1.5594 - accuracy: 0.2878 - val_loss: 1.5120 - val_accuracy: 0.3202\n",
      "Epoch 2/100\n",
      "1602/1602 [==============================] - 0s 117us/sample - loss: 1.3612 - accuracy: 0.4875 - val_loss: 1.2170 - val_accuracy: 0.6124\n",
      "Epoch 3/100\n",
      "1602/1602 [==============================] - 0s 115us/sample - loss: 0.7858 - accuracy: 0.8283 - val_loss: 0.5827 - val_accuracy: 0.8933\n",
      "Epoch 4/100\n",
      "1602/1602 [==============================] - 0s 116us/sample - loss: 0.2518 - accuracy: 0.9700 - val_loss: 0.3026 - val_accuracy: 0.9326\n",
      "Epoch 5/100\n",
      "1602/1602 [==============================] - 0s 114us/sample - loss: 0.0897 - accuracy: 0.9944 - val_loss: 0.2085 - val_accuracy: 0.9607\n",
      "Epoch 6/100\n",
      "1602/1602 [==============================] - 0s 115us/sample - loss: 0.0465 - accuracy: 0.9975 - val_loss: 0.1716 - val_accuracy: 0.9438\n",
      "Epoch 7/100\n",
      "1602/1602 [==============================] - 0s 116us/sample - loss: 0.0255 - accuracy: 1.0000 - val_loss: 0.1544 - val_accuracy: 0.9551\n",
      "Epoch 8/100\n",
      "1602/1602 [==============================] - 0s 116us/sample - loss: 0.0165 - accuracy: 1.0000 - val_loss: 0.1353 - val_accuracy: 0.9663\n",
      "Epoch 9/100\n",
      "1602/1602 [==============================] - 0s 116us/sample - loss: 0.0116 - accuracy: 1.0000 - val_loss: 0.1282 - val_accuracy: 0.9663\n",
      "Epoch 10/100\n",
      "1602/1602 [==============================] - 0s 115us/sample - loss: 0.0085 - accuracy: 1.0000 - val_loss: 0.1199 - val_accuracy: 0.9719\n",
      "Epoch 11/100\n",
      "1602/1602 [==============================] - 0s 120us/sample - loss: 0.0066 - accuracy: 1.0000 - val_loss: 0.1155 - val_accuracy: 0.9663\n",
      "Epoch 12/100\n",
      "1602/1602 [==============================] - 0s 116us/sample - loss: 0.0056 - accuracy: 1.0000 - val_loss: 0.1121 - val_accuracy: 0.9719\n",
      "Epoch 13/100\n",
      "1602/1602 [==============================] - 0s 116us/sample - loss: 0.0045 - accuracy: 1.0000 - val_loss: 0.1081 - val_accuracy: 0.9663\n",
      "Epoch 14/100\n",
      "1602/1602 [==============================] - 0s 117us/sample - loss: 0.0036 - accuracy: 1.0000 - val_loss: 0.1037 - val_accuracy: 0.9663\n",
      "Epoch 15/100\n",
      "1602/1602 [==============================] - 0s 117us/sample - loss: 0.0032 - accuracy: 1.0000 - val_loss: 0.1024 - val_accuracy: 0.9663\n",
      "Epoch 16/100\n",
      "1602/1602 [==============================] - 0s 116us/sample - loss: 0.0027 - accuracy: 1.0000 - val_loss: 0.1006 - val_accuracy: 0.9663\n",
      "Epoch 17/100\n",
      "1602/1602 [==============================] - 0s 116us/sample - loss: 0.0026 - accuracy: 1.0000 - val_loss: 0.0982 - val_accuracy: 0.9663\n",
      "Epoch 18/100\n",
      "1602/1602 [==============================] - 0s 115us/sample - loss: 0.0021 - accuracy: 1.0000 - val_loss: 0.0978 - val_accuracy: 0.9719\n",
      "Epoch 19/100\n",
      "1602/1602 [==============================] - 0s 116us/sample - loss: 0.0017 - accuracy: 1.0000 - val_loss: 0.0951 - val_accuracy: 0.9663\n",
      "Epoch 20/100\n",
      "1602/1602 [==============================] - 0s 115us/sample - loss: 0.0015 - accuracy: 1.0000 - val_loss: 0.0917 - val_accuracy: 0.9719\n",
      "Epoch 21/100\n",
      "1602/1602 [==============================] - 0s 117us/sample - loss: 0.0017 - accuracy: 1.0000 - val_loss: 0.0932 - val_accuracy: 0.9663\n",
      "Epoch 22/100\n",
      "1602/1602 [==============================] - 0s 115us/sample - loss: 0.0014 - accuracy: 1.0000 - val_loss: 0.0899 - val_accuracy: 0.9719\n",
      "Epoch 23/100\n",
      "1602/1602 [==============================] - 0s 114us/sample - loss: 0.0011 - accuracy: 1.0000 - val_loss: 0.0885 - val_accuracy: 0.9719\n",
      "Epoch 24/100\n",
      "1602/1602 [==============================] - 0s 115us/sample - loss: 0.0011 - accuracy: 1.0000 - val_loss: 0.0880 - val_accuracy: 0.9719\n",
      "Epoch 25/100\n",
      "1602/1602 [==============================] - 0s 115us/sample - loss: 0.0011 - accuracy: 1.0000 - val_loss: 0.0896 - val_accuracy: 0.9719\n",
      "Epoch 26/100\n",
      "1602/1602 [==============================] - 0s 117us/sample - loss: 9.2290e-04 - accuracy: 1.0000 - val_loss: 0.0870 - val_accuracy: 0.9719\n",
      "Epoch 27/100\n",
      "1602/1602 [==============================] - 0s 117us/sample - loss: 7.8137e-04 - accuracy: 1.0000 - val_loss: 0.0866 - val_accuracy: 0.9719\n",
      "Epoch 28/100\n",
      "1602/1602 [==============================] - 0s 119us/sample - loss: 7.1587e-04 - accuracy: 1.0000 - val_loss: 0.0848 - val_accuracy: 0.9719\n",
      "Epoch 29/100\n",
      "1602/1602 [==============================] - 0s 116us/sample - loss: 7.0945e-04 - accuracy: 1.0000 - val_loss: 0.0839 - val_accuracy: 0.9719\n",
      "Epoch 30/100\n",
      "1602/1602 [==============================] - 0s 119us/sample - loss: 6.6482e-04 - accuracy: 1.0000 - val_loss: 0.0846 - val_accuracy: 0.9719\n",
      "Epoch 31/100\n",
      "1602/1602 [==============================] - 0s 115us/sample - loss: 6.2419e-04 - accuracy: 1.0000 - val_loss: 0.0838 - val_accuracy: 0.9663\n",
      "Epoch 32/100\n",
      "1602/1602 [==============================] - 0s 114us/sample - loss: 5.8375e-04 - accuracy: 1.0000 - val_loss: 0.0834 - val_accuracy: 0.9719\n",
      "Epoch 33/100\n",
      "1602/1602 [==============================] - 0s 115us/sample - loss: 4.6877e-04 - accuracy: 1.0000 - val_loss: 0.0850 - val_accuracy: 0.9719\n",
      "Epoch 34/100\n",
      "1602/1602 [==============================] - 0s 116us/sample - loss: 5.0190e-04 - accuracy: 1.0000 - val_loss: 0.0828 - val_accuracy: 0.9719\n",
      "Epoch 35/100\n",
      "1602/1602 [==============================] - 0s 117us/sample - loss: 4.2499e-04 - accuracy: 1.0000 - val_loss: 0.0821 - val_accuracy: 0.9719\n",
      "Epoch 36/100\n",
      "1602/1602 [==============================] - 0s 117us/sample - loss: 4.3876e-04 - accuracy: 1.0000 - val_loss: 0.0829 - val_accuracy: 0.9719\n",
      "Epoch 37/100\n",
      "1602/1602 [==============================] - 0s 116us/sample - loss: 4.0236e-04 - accuracy: 1.0000 - val_loss: 0.0822 - val_accuracy: 0.9719\n",
      "Epoch 38/100\n",
      "1602/1602 [==============================] - 0s 116us/sample - loss: 3.3630e-04 - accuracy: 1.0000 - val_loss: 0.0815 - val_accuracy: 0.9719\n",
      "Epoch 39/100\n",
      "1602/1602 [==============================] - 0s 115us/sample - loss: 3.5619e-04 - accuracy: 1.0000 - val_loss: 0.0814 - val_accuracy: 0.9663\n",
      "Epoch 40/100\n",
      "1602/1602 [==============================] - 0s 117us/sample - loss: 3.3643e-04 - accuracy: 1.0000 - val_loss: 0.0824 - val_accuracy: 0.9719\n",
      "Epoch 41/100\n",
      "1602/1602 [==============================] - 0s 116us/sample - loss: 3.1860e-04 - accuracy: 1.0000 - val_loss: 0.0814 - val_accuracy: 0.9719\n",
      "Epoch 42/100\n",
      "1602/1602 [==============================] - 0s 115us/sample - loss: 3.3879e-04 - accuracy: 1.0000 - val_loss: 0.0810 - val_accuracy: 0.9719\n",
      "Epoch 43/100\n",
      "1602/1602 [==============================] - 0s 116us/sample - loss: 2.7339e-04 - accuracy: 1.0000 - val_loss: 0.0809 - val_accuracy: 0.9719\n",
      "Epoch 44/100\n",
      "1602/1602 [==============================] - 0s 116us/sample - loss: 2.7351e-04 - accuracy: 1.0000 - val_loss: 0.0820 - val_accuracy: 0.9607\n",
      "Epoch 45/100\n",
      "1602/1602 [==============================] - 0s 116us/sample - loss: 2.6590e-04 - accuracy: 1.0000 - val_loss: 0.0817 - val_accuracy: 0.9607\n",
      "Epoch 46/100\n",
      "1602/1602 [==============================] - 0s 116us/sample - loss: 2.5323e-04 - accuracy: 1.0000 - val_loss: 0.0804 - val_accuracy: 0.9607\n",
      "Epoch 47/100\n",
      "1602/1602 [==============================] - 0s 116us/sample - loss: 2.3090e-04 - accuracy: 1.0000 - val_loss: 0.0790 - val_accuracy: 0.9719\n",
      "Epoch 48/100\n",
      "1602/1602 [==============================] - 0s 116us/sample - loss: 2.4438e-04 - accuracy: 1.0000 - val_loss: 0.0821 - val_accuracy: 0.9663\n",
      "Epoch 49/100\n",
      "1602/1602 [==============================] - 0s 117us/sample - loss: 2.4897e-04 - accuracy: 1.0000 - val_loss: 0.0820 - val_accuracy: 0.9607\n",
      "Epoch 50/100\n",
      "1602/1602 [==============================] - 0s 116us/sample - loss: 1.9965e-04 - accuracy: 1.0000 - val_loss: 0.0813 - val_accuracy: 0.9607\n",
      "Epoch 51/100\n",
      "1602/1602 [==============================] - 0s 117us/sample - loss: 2.0891e-04 - accuracy: 1.0000 - val_loss: 0.0801 - val_accuracy: 0.9607\n",
      "Epoch 52/100\n",
      "1602/1602 [==============================] - 0s 116us/sample - loss: 2.0353e-04 - accuracy: 1.0000 - val_loss: 0.0806 - val_accuracy: 0.9607\n",
      "Epoch 53/100\n",
      "1602/1602 [==============================] - 0s 116us/sample - loss: 1.7439e-04 - accuracy: 1.0000 - val_loss: 0.0780 - val_accuracy: 0.9607\n",
      "Epoch 54/100\n",
      "1602/1602 [==============================] - 0s 115us/sample - loss: 1.5907e-04 - accuracy: 1.0000 - val_loss: 0.0785 - val_accuracy: 0.9607\n",
      "Epoch 55/100\n",
      "1602/1602 [==============================] - 0s 114us/sample - loss: 1.5535e-04 - accuracy: 1.0000 - val_loss: 0.0787 - val_accuracy: 0.9607\n",
      "Epoch 56/100\n",
      "1602/1602 [==============================] - 0s 115us/sample - loss: 1.5364e-04 - accuracy: 1.0000 - val_loss: 0.0780 - val_accuracy: 0.9607\n",
      "Epoch 57/100\n",
      "1602/1602 [==============================] - 0s 115us/sample - loss: 1.5604e-04 - accuracy: 1.0000 - val_loss: 0.0796 - val_accuracy: 0.9607\n",
      "Epoch 58/100\n",
      "1602/1602 [==============================] - 0s 117us/sample - loss: 1.2993e-04 - accuracy: 1.0000 - val_loss: 0.0795 - val_accuracy: 0.9607\n",
      "Epoch 59/100\n",
      "1602/1602 [==============================] - 0s 115us/sample - loss: 1.4700e-04 - accuracy: 1.0000 - val_loss: 0.0787 - val_accuracy: 0.9607\n",
      "Epoch 60/100\n",
      "1602/1602 [==============================] - 0s 116us/sample - loss: 1.3104e-04 - accuracy: 1.0000 - val_loss: 0.0772 - val_accuracy: 0.9607\n",
      "Epoch 61/100\n",
      "1602/1602 [==============================] - 0s 117us/sample - loss: 1.2969e-04 - accuracy: 1.0000 - val_loss: 0.0771 - val_accuracy: 0.9607\n",
      "Epoch 62/100\n",
      "1602/1602 [==============================] - 0s 117us/sample - loss: 1.4645e-04 - accuracy: 1.0000 - val_loss: 0.0816 - val_accuracy: 0.9607\n",
      "Epoch 63/100\n",
      "1602/1602 [==============================] - 0s 118us/sample - loss: 1.1346e-04 - accuracy: 1.0000 - val_loss: 0.0791 - val_accuracy: 0.9607\n",
      "Epoch 64/100\n",
      "1602/1602 [==============================] - 0s 116us/sample - loss: 1.2486e-04 - accuracy: 1.0000 - val_loss: 0.0767 - val_accuracy: 0.9607\n",
      "Epoch 65/100\n",
      "1602/1602 [==============================] - 0s 114us/sample - loss: 1.0872e-04 - accuracy: 1.0000 - val_loss: 0.0784 - val_accuracy: 0.9607\n",
      "Epoch 66/100\n",
      "1602/1602 [==============================] - 0s 116us/sample - loss: 1.0889e-04 - accuracy: 1.0000 - val_loss: 0.0787 - val_accuracy: 0.9607\n",
      "Epoch 67/100\n",
      "1602/1602 [==============================] - 0s 115us/sample - loss: 9.3270e-05 - accuracy: 1.0000 - val_loss: 0.0768 - val_accuracy: 0.9607\n",
      "Epoch 68/100\n",
      "1602/1602 [==============================] - 0s 116us/sample - loss: 8.8742e-05 - accuracy: 1.0000 - val_loss: 0.0764 - val_accuracy: 0.9607\n",
      "Epoch 69/100\n",
      "1602/1602 [==============================] - 0s 117us/sample - loss: 1.0935e-04 - accuracy: 1.0000 - val_loss: 0.0770 - val_accuracy: 0.9663\n",
      "Epoch 70/100\n",
      "1602/1602 [==============================] - 0s 116us/sample - loss: 9.1438e-05 - accuracy: 1.0000 - val_loss: 0.0756 - val_accuracy: 0.9607\n",
      "Epoch 71/100\n",
      "1602/1602 [==============================] - 0s 117us/sample - loss: 7.0897e-05 - accuracy: 1.0000 - val_loss: 0.0751 - val_accuracy: 0.9607\n",
      "Epoch 72/100\n",
      "1602/1602 [==============================] - 0s 114us/sample - loss: 7.2487e-05 - accuracy: 1.0000 - val_loss: 0.0757 - val_accuracy: 0.9663\n",
      "Epoch 73/100\n",
      "1602/1602 [==============================] - 0s 116us/sample - loss: 7.2367e-05 - accuracy: 1.0000 - val_loss: 0.0758 - val_accuracy: 0.9607\n",
      "Epoch 74/100\n",
      "1602/1602 [==============================] - 0s 115us/sample - loss: 7.9038e-05 - accuracy: 1.0000 - val_loss: 0.0752 - val_accuracy: 0.9607\n",
      "Epoch 75/100\n",
      "1602/1602 [==============================] - 0s 115us/sample - loss: 7.0785e-05 - accuracy: 1.0000 - val_loss: 0.0743 - val_accuracy: 0.9719\n",
      "Epoch 76/100\n",
      "1602/1602 [==============================] - 0s 117us/sample - loss: 7.0274e-05 - accuracy: 1.0000 - val_loss: 0.0749 - val_accuracy: 0.9607\n",
      "Epoch 77/100\n",
      "1602/1602 [==============================] - 0s 114us/sample - loss: 8.4826e-05 - accuracy: 1.0000 - val_loss: 0.0738 - val_accuracy: 0.9719\n",
      "Epoch 78/100\n",
      "1602/1602 [==============================] - 0s 118us/sample - loss: 6.4615e-05 - accuracy: 1.0000 - val_loss: 0.0731 - val_accuracy: 0.9719\n",
      "Epoch 79/100\n",
      "1602/1602 [==============================] - 0s 117us/sample - loss: 6.2327e-05 - accuracy: 1.0000 - val_loss: 0.0771 - val_accuracy: 0.9607\n",
      "Epoch 80/100\n",
      "1602/1602 [==============================] - 0s 117us/sample - loss: 8.7393e-05 - accuracy: 1.0000 - val_loss: 0.0761 - val_accuracy: 0.9719\n",
      "Epoch 81/100\n",
      "1602/1602 [==============================] - 0s 114us/sample - loss: 6.5440e-05 - accuracy: 1.0000 - val_loss: 0.0791 - val_accuracy: 0.9663\n",
      "Epoch 82/100\n",
      "1602/1602 [==============================] - 0s 116us/sample - loss: 6.0354e-05 - accuracy: 1.0000 - val_loss: 0.0786 - val_accuracy: 0.9663\n",
      "Epoch 83/100\n",
      "1602/1602 [==============================] - 0s 115us/sample - loss: 5.0464e-05 - accuracy: 1.0000 - val_loss: 0.0777 - val_accuracy: 0.9607\n",
      "Epoch 84/100\n",
      "1602/1602 [==============================] - 0s 116us/sample - loss: 4.2508e-05 - accuracy: 1.0000 - val_loss: 0.0785 - val_accuracy: 0.9607\n",
      "Epoch 85/100\n",
      "1602/1602 [==============================] - 0s 115us/sample - loss: 4.2389e-05 - accuracy: 1.0000 - val_loss: 0.0781 - val_accuracy: 0.9607\n",
      "Epoch 86/100\n",
      "1602/1602 [==============================] - 0s 116us/sample - loss: 4.8573e-05 - accuracy: 1.0000 - val_loss: 0.0783 - val_accuracy: 0.9607\n",
      "Epoch 87/100\n",
      "1602/1602 [==============================] - 0s 116us/sample - loss: 4.4876e-05 - accuracy: 1.0000 - val_loss: 0.0781 - val_accuracy: 0.9607\n",
      "Epoch 88/100\n",
      "1602/1602 [==============================] - 0s 114us/sample - loss: 4.5624e-05 - accuracy: 1.0000 - val_loss: 0.0779 - val_accuracy: 0.9607\n",
      "Epoch 89/100\n",
      "1602/1602 [==============================] - 0s 117us/sample - loss: 4.8673e-05 - accuracy: 1.0000 - val_loss: 0.0764 - val_accuracy: 0.9607\n",
      "Epoch 90/100\n",
      "1602/1602 [==============================] - 0s 116us/sample - loss: 4.0230e-05 - accuracy: 1.0000 - val_loss: 0.0756 - val_accuracy: 0.9607\n",
      "Epoch 91/100\n",
      "1602/1602 [==============================] - 0s 116us/sample - loss: 3.6741e-05 - accuracy: 1.0000 - val_loss: 0.0760 - val_accuracy: 0.9607\n",
      "Epoch 92/100\n",
      "1602/1602 [==============================] - 0s 118us/sample - loss: 3.7846e-05 - accuracy: 1.0000 - val_loss: 0.0758 - val_accuracy: 0.9607\n",
      "Epoch 93/100\n",
      "1602/1602 [==============================] - 0s 117us/sample - loss: 4.1079e-05 - accuracy: 1.0000 - val_loss: 0.0748 - val_accuracy: 0.9607\n",
      "Epoch 94/100\n",
      "1602/1602 [==============================] - 0s 115us/sample - loss: 3.2065e-05 - accuracy: 1.0000 - val_loss: 0.0755 - val_accuracy: 0.9607\n",
      "Epoch 95/100\n",
      "1602/1602 [==============================] - 0s 115us/sample - loss: 4.5521e-05 - accuracy: 1.0000 - val_loss: 0.0731 - val_accuracy: 0.9663\n",
      "Epoch 96/100\n",
      "1602/1602 [==============================] - 0s 118us/sample - loss: 3.7782e-05 - accuracy: 1.0000 - val_loss: 0.0723 - val_accuracy: 0.9719\n",
      "Epoch 97/100\n",
      "1602/1602 [==============================] - 0s 117us/sample - loss: 3.3090e-05 - accuracy: 1.0000 - val_loss: 0.0726 - val_accuracy: 0.9663\n",
      "Epoch 98/100\n",
      "1602/1602 [==============================] - 0s 115us/sample - loss: 3.2878e-05 - accuracy: 1.0000 - val_loss: 0.0732 - val_accuracy: 0.9607\n",
      "Epoch 99/100\n",
      "1602/1602 [==============================] - 0s 115us/sample - loss: 3.3041e-05 - accuracy: 1.0000 - val_loss: 0.0719 - val_accuracy: 0.9607\n",
      "Epoch 100/100\n",
      "1602/1602 [==============================] - 0s 115us/sample - loss: 2.7375e-05 - accuracy: 1.0000 - val_loss: 0.0730 - val_accuracy: 0.9607\n",
      "CPU times: user 41.5 s, sys: 6.62 s, total: 48.1 s\n",
      "Wall time: 19.2 s\n"
     ]
    }
   ],
   "source": [
    "%time history = model.fit(train_sentences, train_labels, epochs=100, batch_size=32, validation_split = 0.1, verbose=1)"
   ]
  },
  {
   "cell_type": "code",
   "execution_count": 64,
   "metadata": {},
   "outputs": [
    {
     "data": {
      "image/png": "[encoded data removed]",
      "text/plain": [
       "<Figure size 1152x720 with 1 Axes>"
      ]
     },
     "metadata": {
      "needs_background": "light"
     },
     "output_type": "display_data"
    }
   ],
   "source": [
    "pd.DataFrame(history.history).plot(figsize=(16, 10))\n",
    "plt.xlabel('epochs')\n",
    "plt.grid(True)\n",
    "plt.gca().set_ylim(0, 1.1)\n",
    "plt.show()"
   ]
  },
  {
   "cell_type": "code",
   "execution_count": 65,
   "metadata": {},
   "outputs": [
    {
     "name": "stdout",
     "output_type": "stream",
     "text": [
      "445/445 [==============================] - 0s 66us/sample - loss: 0.0998 - accuracy: 0.9708\n",
      "Accuracy su test set: 0.97\n"
     ]
    }
   ],
   "source": [
    "loss, acc = model.evaluate(test_sentences, test_labels)\n",
    "\n",
    "print(\"Accuracy su test set: %.2f\" %(acc))"
   ]
  },
  {
   "cell_type": "code",
   "execution_count": 66,
   "metadata": {},
   "outputs": [],
   "source": [
    "# calcolo tutte le predizioni sul test set\n",
    "pred = np.argmax(model.predict(test_sentences), axis = 1)"
   ]
  },
  {
   "cell_type": "code",
   "execution_count": 67,
   "metadata": {},
   "outputs": [],
   "source": [
    "cm = tf.math.confusion_matrix(\n",
    "    test_labels, pred, num_classes=5)"
   ]
  },
  {
   "cell_type": "code",
   "execution_count": 68,
   "metadata": {},
   "outputs": [
    {
     "data": {
      "text/plain": [
       "<tf.Tensor: shape=(5, 5), dtype=int32, numpy=\n",
       "array([[100,   0,   0,   0,   1],\n",
       "       [  0, 101,   3,   1,   1],\n",
       "       [  0,   1,  82,   2,   1],\n",
       "       [  1,   0,   0,  85,   0],\n",
       "       [  0,   0,   1,   1,  64]], dtype=int32)>"
      ]
     },
     "execution_count": 68,
     "metadata": {},
     "output_type": "execute_result"
    }
   ],
   "source": [
    "# la matrice di confusione\n",
    "cm"
   ]
  },
  {
   "cell_type": "markdown",
   "metadata": {},
   "source": [
    "### Testiamo su nuove frasi"
   ]
  },
  {
   "cell_type": "code",
   "execution_count": 35,
   "metadata": {},
   "outputs": [
    {
     "data": {
      "text/plain": [
       "(4, 300)"
      ]
     },
     "execution_count": 35,
     "metadata": {},
     "output_type": "execute_result"
    }
   ],
   "source": [
    "frasi = [sentences[0], sentences[1], sentences[2], sentences[3]]\n",
    "\n",
    "frasi = filter_stop_words(frasi, stopwords)\n",
    "\n",
    "frasi_seq = tokenizer.texts_to_sequences(frasi)\n",
    "\n",
    "# impongo una lunghezza massima alle stringhe\n",
    "max_len = 300\n",
    "frasi_padded = pad_sequences(frasi_seq, padding='post', maxlen = max_len)\n",
    "\n",
    "frasi_padded.shape"
   ]
  },
  {
   "cell_type": "code",
   "execution_count": 36,
   "metadata": {},
   "outputs": [
    {
     "data": {
      "text/plain": [
       "array([4, 2, 1, 1])"
      ]
     },
     "execution_count": 36,
     "metadata": {},
     "output_type": "execute_result"
    }
   ],
   "source": [
    "pred_frasi = np.argmax(model.predict(frasi_padded), axis = 1)\n",
    "\n",
    "# riport alle originarie label\n",
    "pred_frasi + 1"
   ]
  },
  {
   "cell_type": "code",
   "execution_count": 37,
   "metadata": {},
   "outputs": [
    {
     "data": {
      "text/plain": [
       "['tech', 'business', 'sport', 'sport']"
      ]
     },
     "execution_count": 37,
     "metadata": {},
     "output_type": "execute_result"
    }
   ],
   "source": [
    "labels[0:4]"
   ]
  },
  {
   "cell_type": "code",
   "execution_count": null,
   "metadata": {},
   "outputs": [],
   "source": [
    "model.predict(frasi_padded)"
   ]
  },
  {
   "cell_type": "code",
   "execution_count": null,
   "metadata": {},
   "outputs": [],
   "source": [
    "frasi"
   ]
  },
  {
   "cell_type": "code",
   "execution_count": null,
   "metadata": {},
   "outputs": [],
   "source": []
  }
 ],
 "metadata": {
  "kernelspec": {
   "display_name": "Python 3",
   "language": "python",
   "name": "python3"
  },
  "language_info": {
   "codemirror_mode": {
    "name": "ipython",
    "version": 3
   },
   "file_extension": ".py",
   "mimetype": "text/x-python",
   "name": "python",
   "nbconvert_exporter": "python",
   "pygments_lexer": "ipython3",
   "version": "3.7.6"
  }
 },
 "nbformat": 4,
 "nbformat_minor": 4
}
